{
 "cells": [
  {
   "cell_type": "markdown",
   "metadata": {},
   "source": [
    "# Red Neuronal RNN"
   ]
  },
  {
   "cell_type": "code",
   "execution_count": 1,
   "metadata": {},
   "outputs": [
    {
     "name": "stderr",
     "output_type": "stream",
     "text": [
      "[nltk_data] Downloading package stopwords to\n",
      "[nltk_data]     C:\\Users\\igna-\\AppData\\Roaming\\nltk_data...\n",
      "[nltk_data]   Package stopwords is already up-to-date!\n"
     ]
    }
   ],
   "source": [
    "# importacion general de librerias y de visualizacion (matplotlib y seaborn)\n",
    "import pandas as pd\n",
    "import scipy \n",
    "import numpy as np\n",
    "import random as rd\n",
    "import nltk\n",
    "import pickle\n",
    "import sklearn\n",
    "from sklearn.neighbors import NearestNeighbors\n",
    "from collections import Counter\n",
    "import matplotlib.pyplot as plt\n",
    "import seaborn as sns\n",
    "from datetime import date\n",
    "from datetime import datetime\n",
    "from tqdm import tqdm\n",
    "\n",
    "from sklearn.metrics import classification_report, roc_auc_score\n",
    "\n",
    "%matplotlib inline\n",
    "nltk.download('stopwords')\n",
    "\n",
    "plt.style.use('default') # haciendo los graficos un poco mas bonitos en matplotlib\n",
    "#plt.rcParams['figure.figsize'] = (20, 10)\n",
    "\n",
    "sns.set(style=\"whitegrid\") # seteando tipo de grid en seaborn\n",
    "\n",
    "pd.options.display.float_format = '{:20,.2f}'.format # suprimimos la notacion cientifica en los outputs\n",
    "\n",
    "import warnings\n",
    "warnings.filterwarnings('ignore')"
   ]
  },
  {
   "cell_type": "markdown",
   "metadata": {},
   "source": [
    "Leo y spliteo el set de datos"
   ]
  },
  {
   "cell_type": "code",
   "execution_count": 2,
   "metadata": {},
   "outputs": [],
   "source": [
    "tweets = pd.read_csv('train_EN.csv')"
   ]
  },
  {
   "cell_type": "code",
   "execution_count": 3,
   "metadata": {},
   "outputs": [],
   "source": [
    "train = tweets.iloc[:,1:3]\n",
    "train.dropna(inplace =True)"
   ]
  },
  {
   "cell_type": "code",
   "execution_count": 4,
   "metadata": {},
   "outputs": [],
   "source": [
    "train['tweet'] = train['tweet'].str.lower()\n",
    "train['tweet'] = train['tweet'].astype(str)"
   ]
  },
  {
   "cell_type": "markdown",
   "metadata": {},
   "source": [
    "Creo la matriz de embbedings"
   ]
  },
  {
   "cell_type": "code",
   "execution_count": 5,
   "metadata": {},
   "outputs": [],
   "source": [
    "import gensim\n",
    "w2v_model = gensim.models.KeyedVectors.load_word2vec_format('https://s3.amazonaws.com/dl4j-distribution/GoogleNews-vectors-negative300.bin.gz', binary=True)"
   ]
  },
  {
   "cell_type": "code",
   "execution_count": 6,
   "metadata": {},
   "outputs": [
    {
     "data": {
      "text/plain": [
       "(3000000, 300)"
      ]
     },
     "execution_count": 6,
     "metadata": {},
     "output_type": "execute_result"
    }
   ],
   "source": [
    " w2v_model.vectors.shape"
   ]
  },
  {
   "cell_type": "code",
   "execution_count": 7,
   "metadata": {},
   "outputs": [],
   "source": [
    "emb_matrix = np.concatenate([np.zeros((1,300)), \n",
    "                             np.random.normal(size=(1,300)),\n",
    "                             w2v_model.vectors[:500000]], axis=0)"
   ]
  },
  {
   "cell_type": "code",
   "execution_count": 8,
   "metadata": {},
   "outputs": [],
   "source": [
    "from sklearn.model_selection import train_test_split\n",
    "X_train, X_test, y_train, y_test = train_test_split(train['tweet'], train['sarcastic'], test_size=0.2, train_size=0.8, random_state=1999)"
   ]
  },
  {
   "cell_type": "code",
   "execution_count": 9,
   "metadata": {},
   "outputs": [],
   "source": [
    "X_test = X_test.dropna()\n",
    "y_test = y_test.dropna()"
   ]
  },
  {
   "cell_type": "code",
   "execution_count": 10,
   "metadata": {},
   "outputs": [
    {
     "name": "stderr",
     "output_type": "stream",
     "text": [
      "100%|██████████████████████████████████████████████████████████████████████████████| 694/694 [00:00<00:00, 1784.05it/s]\n"
     ]
    }
   ],
   "source": [
    "tokenized_texts_test = []\n",
    "for text in tqdm(X_test):\n",
    "    tokenized_texts_test.append(nltk.word_tokenize(text))"
   ]
  },
  {
   "cell_type": "code",
   "execution_count": 11,
   "metadata": {},
   "outputs": [
    {
     "name": "stderr",
     "output_type": "stream",
     "text": [
      "100%|████████████████████████████████████████████████████████████████████████████| 2773/2773 [00:00<00:00, 3200.51it/s]\n"
     ]
    }
   ],
   "source": [
    "tokenized_texts = []\n",
    "for text in tqdm(X_train):\n",
    "    tokenized_texts.append(nltk.word_tokenize(text))"
   ]
  },
  {
   "cell_type": "code",
   "execution_count": 12,
   "metadata": {},
   "outputs": [
    {
     "data": {
      "text/plain": [
       "50"
      ]
     },
     "execution_count": 12,
     "metadata": {},
     "output_type": "execute_result"
    }
   ],
   "source": [
    "MAX_LEN = int(np.percentile([len(t) for t in tokenized_texts], 95))\n",
    "MAX_LEN"
   ]
  },
  {
   "cell_type": "code",
   "execution_count": 13,
   "metadata": {},
   "outputs": [],
   "source": [
    "def preprocess_toks(tokenized_text):\n",
    "    tokenized_text =tokenized_text.copy()\n",
    "    if len(tokenized_text) > MAX_LEN:\n",
    "        tokenized_text = tokenized_text[:MAX_LEN]\n",
    "    for i in range(len(tokenized_text)):\n",
    "        if tokenized_text[i] in w2v_model and w2v_model.key_to_index[tokenized_text[i]] < 500000:\n",
    "            tokenized_text[i] = w2v_model.key_to_index[tokenized_text[i]]+2\n",
    "        else:\n",
    "            tokenized_text[i] = 1\n",
    "    return tokenized_text"
   ]
  },
  {
   "cell_type": "code",
   "execution_count": 14,
   "metadata": {},
   "outputs": [
    {
     "data": {
      "text/plain": [
       "(500002, 300)"
      ]
     },
     "execution_count": 14,
     "metadata": {},
     "output_type": "execute_result"
    }
   ],
   "source": [
    "emb_matrix.shape"
   ]
  },
  {
   "cell_type": "code",
   "execution_count": 15,
   "metadata": {},
   "outputs": [
    {
     "name": "stderr",
     "output_type": "stream",
     "text": [
      "100%|████████████████████████████████████████████████████████████████████████████| 2773/2773 [00:00<00:00, 4553.36it/s]\n"
     ]
    }
   ],
   "source": [
    "for i in tqdm(range(len(tokenized_texts)), total=len(tokenized_texts)):\n",
    "    tokenized_texts[i] = preprocess_toks(tokenized_texts[i])"
   ]
  },
  {
   "cell_type": "code",
   "execution_count": 16,
   "metadata": {},
   "outputs": [],
   "source": [
    "from tensorflow.keras.preprocessing.sequence import pad_sequences\n",
    "tokenized_texts = pad_sequences(\n",
    "    tokenized_texts, maxlen=MAX_LEN, dtype='int32', padding='post',\n",
    "    truncating='post', value=0\n",
    ")"
   ]
  },
  {
   "cell_type": "code",
   "execution_count": 17,
   "metadata": {},
   "outputs": [
    {
     "name": "stderr",
     "output_type": "stream",
     "text": [
      "100%|██████████████████████████████████████████████████████████████████████████████| 694/694 [00:00<00:00, 2891.74it/s]\n"
     ]
    }
   ],
   "source": [
    "for i in tqdm(range(len(tokenized_texts_test)), total=len(tokenized_texts_test)):\n",
    "    tokenized_texts_test[i] = preprocess_toks(tokenized_texts_test[i])"
   ]
  },
  {
   "cell_type": "code",
   "execution_count": 18,
   "metadata": {},
   "outputs": [],
   "source": [
    "tokenized_texts_test = pad_sequences(\n",
    "    tokenized_texts_test, maxlen=MAX_LEN, dtype='int32', padding='post',\n",
    "    truncating='post', value=0\n",
    ")"
   ]
  },
  {
   "cell_type": "code",
   "execution_count": 19,
   "metadata": {},
   "outputs": [],
   "source": [
    "from keras.layers import Dense, Input, GRU, Embedding, LSTM\n",
    "from keras.models import Model"
   ]
  },
  {
   "cell_type": "code",
   "execution_count": 20,
   "metadata": {},
   "outputs": [],
   "source": [
    "from keras.layers import Conv1D, GlobalMaxPooling1D, Dropout, Concatenate, Reshape, Flatten, MaxPooling1D"
   ]
  },
  {
   "cell_type": "code",
   "execution_count": 21,
   "metadata": {},
   "outputs": [],
   "source": [
    "word_indexes = Input((50,), dtype='int32')\n",
    "\n",
    "word_emb = Embedding(500002, 300, weights=[emb_matrix], \n",
    "                     trainable=False, mask_zero=True)\n",
    "\n",
    "emb_sequence = word_emb(word_indexes) # (22, 300)\n",
    "rnn1 = GRU(50, activation='tanh')(emb_sequence) # (1,50)\n",
    "dense1 = Dense(50, activation='tanh')(rnn1)\n",
    "dense2 = Dense(50, activation='tanh')(dense1)\n",
    "dense3 = Dense(50, activation='tanh')(dense2)\n",
    "\n",
    "out = Dense(1, activation='sigmoid')(dense3)\n",
    "model = Model(inputs=word_indexes, outputs=out)"
   ]
  },
  {
   "cell_type": "code",
   "execution_count": 22,
   "metadata": {},
   "outputs": [],
   "source": [
    "from tensorflow import keras\n",
    "opt = keras.optimizers.Adam(learning_rate=0.0001)\n",
    "\n",
    "model.compile(optimizer=opt, loss='binary_crossentropy', metrics=[keras.metrics.AUC()])\n",
    "callback = keras.callbacks.EarlyStopping(monitor='val_loss', patience=6)"
   ]
  },
  {
   "cell_type": "code",
   "execution_count": 23,
   "metadata": {},
   "outputs": [
    {
     "name": "stdout",
     "output_type": "stream",
     "text": [
      "Epoch 1/200\n",
      "1/1 [==============================] - 21s 21s/step - loss: 0.8188 - auc: 0.5008 - val_loss: 0.7684 - val_auc: 0.5356\n",
      "Epoch 2/200\n",
      "1/1 [==============================] - 1s 1s/step - loss: 0.7977 - auc: 0.5005 - val_loss: 0.7531 - val_auc: 0.5403\n",
      "Epoch 3/200\n",
      "1/1 [==============================] - 1s 1s/step - loss: 0.7772 - auc: 0.5009 - val_loss: 0.7386 - val_auc: 0.5340\n",
      "Epoch 4/200\n",
      "1/1 [==============================] - 1s 1s/step - loss: 0.7576 - auc: 0.5009 - val_loss: 0.7250 - val_auc: 0.5322\n",
      "Epoch 5/200\n",
      "1/1 [==============================] - 1s 1s/step - loss: 0.7388 - auc: 0.5030 - val_loss: 0.7124 - val_auc: 0.5272\n",
      "Epoch 6/200\n",
      "1/1 [==============================] - 1s 1s/step - loss: 0.7210 - auc: 0.5039 - val_loss: 0.7008 - val_auc: 0.5185\n",
      "Epoch 7/200\n",
      "1/1 [==============================] - 1s 1s/step - loss: 0.7043 - auc: 0.5059 - val_loss: 0.6903 - val_auc: 0.5011\n",
      "Epoch 8/200\n",
      "1/1 [==============================] - 1s 1s/step - loss: 0.6889 - auc: 0.5064 - val_loss: 0.6810 - val_auc: 0.4815\n",
      "Epoch 9/200\n",
      "1/1 [==============================] - 1s 1s/step - loss: 0.6746 - auc: 0.5060 - val_loss: 0.6728 - val_auc: 0.4473\n",
      "Epoch 10/200\n",
      "1/1 [==============================] - 1s 1s/step - loss: 0.6617 - auc: 0.5036 - val_loss: 0.6658 - val_auc: 0.4361\n",
      "Epoch 11/200\n",
      "1/1 [==============================] - 1s 1s/step - loss: 0.6500 - auc: 0.4969 - val_loss: 0.6599 - val_auc: 0.4259\n",
      "Epoch 12/200\n",
      "1/1 [==============================] - 1s 1s/step - loss: 0.6397 - auc: 0.4918 - val_loss: 0.6551 - val_auc: 0.4270\n",
      "Epoch 13/200\n",
      "1/1 [==============================] - 1s 1s/step - loss: 0.6305 - auc: 0.4898 - val_loss: 0.6512 - val_auc: 0.4230\n",
      "Epoch 14/200\n",
      "1/1 [==============================] - 1s 1s/step - loss: 0.6226 - auc: 0.4892 - val_loss: 0.6483 - val_auc: 0.4226\n",
      "Epoch 15/200\n",
      "1/1 [==============================] - 1s 1s/step - loss: 0.6157 - auc: 0.4915 - val_loss: 0.6461 - val_auc: 0.4245\n",
      "Epoch 16/200\n",
      "1/1 [==============================] - 1s 1s/step - loss: 0.6099 - auc: 0.4896 - val_loss: 0.6446 - val_auc: 0.4243\n",
      "Epoch 17/200\n",
      "1/1 [==============================] - 1s 1s/step - loss: 0.6050 - auc: 0.4922 - val_loss: 0.6437 - val_auc: 0.4253\n",
      "Epoch 18/200\n",
      "1/1 [==============================] - 1s 1s/step - loss: 0.6009 - auc: 0.4929 - val_loss: 0.6432 - val_auc: 0.4283\n",
      "Epoch 19/200\n",
      "1/1 [==============================] - 1s 1s/step - loss: 0.5974 - auc: 0.4933 - val_loss: 0.6432 - val_auc: 0.4281\n",
      "Epoch 20/200\n",
      "1/1 [==============================] - 1s 1s/step - loss: 0.5946 - auc: 0.4935 - val_loss: 0.6435 - val_auc: 0.4298\n",
      "Epoch 21/200\n",
      "1/1 [==============================] - 1s 1s/step - loss: 0.5923 - auc: 0.4925 - val_loss: 0.6440 - val_auc: 0.4304\n",
      "Epoch 22/200\n",
      "1/1 [==============================] - 1s 1s/step - loss: 0.5905 - auc: 0.4935 - val_loss: 0.6447 - val_auc: 0.4301\n",
      "Epoch 23/200\n",
      "1/1 [==============================] - 1s 1s/step - loss: 0.5890 - auc: 0.4937 - val_loss: 0.6455 - val_auc: 0.4321\n",
      "Epoch 24/200\n",
      "1/1 [==============================] - 1s 1s/step - loss: 0.5878 - auc: 0.4936 - val_loss: 0.6463 - val_auc: 0.4279\n",
      "Epoch 25/200\n",
      "1/1 [==============================] - 1s 1s/step - loss: 0.5869 - auc: 0.4939 - val_loss: 0.6472 - val_auc: 0.4329\n"
     ]
    }
   ],
   "source": [
    "history = model.fit(tokenized_texts, y_train.values, validation_split=0.1, callbacks=[callback], epochs=200,batch_size=2777)"
   ]
  },
  {
   "cell_type": "code",
   "execution_count": 24,
   "metadata": {},
   "outputs": [],
   "source": [
    "preds = model.predict(tokenized_texts_test)"
   ]
  },
  {
   "cell_type": "code",
   "execution_count": 25,
   "metadata": {},
   "outputs": [],
   "source": [
    "y_pred = (preds >= 0.5).astype(bool)"
   ]
  },
  {
   "cell_type": "code",
   "execution_count": 26,
   "metadata": {},
   "outputs": [
    {
     "name": "stdout",
     "output_type": "stream",
     "text": [
      "              precision    recall  f1-score   support\n",
      "\n",
      "           0       0.77      0.99      0.86       532\n",
      "           1       0.14      0.01      0.01       162\n",
      "\n",
      "    accuracy                           0.76       694\n",
      "   macro avg       0.45      0.50      0.44       694\n",
      "weighted avg       0.62      0.76      0.66       694\n",
      "\n"
     ]
    },
    {
     "data": {
      "text/plain": [
       "0.458727838113803"
      ]
     },
     "execution_count": 26,
     "metadata": {},
     "output_type": "execute_result"
    }
   ],
   "source": [
    "print(classification_report(y_test, y_pred))\n",
    "roc_auc_score(y_test, preds)"
   ]
  },
  {
   "cell_type": "code",
   "execution_count": 60,
   "metadata": {},
   "outputs": [
    {
     "data": {
      "text/plain": [
       "0.541272161886197"
      ]
     },
     "execution_count": 60,
     "metadata": {},
     "output_type": "execute_result"
    }
   ],
   "source": [
    "1 - 0.458727838113803"
   ]
  },
  {
   "cell_type": "markdown",
   "metadata": {},
   "source": [
    "## Creo una nueva red con LSTM"
   ]
  },
  {
   "cell_type": "code",
   "execution_count": 27,
   "metadata": {},
   "outputs": [],
   "source": [
    "word_indexes = Input((50,), dtype='int32')\n",
    "\n",
    "word_emb = Embedding(500002, 300, weights=[emb_matrix], \n",
    "                     trainable=False, mask_zero=True)\n",
    "\n",
    "emb_sequence = word_emb(word_indexes)\n",
    "emb_sequence = Dropout(0.25)(emb_sequence)\n",
    "rnn1 = LSTM(50, activation='tanh')(emb_sequence)\n",
    "dense1 = Dense(50, activation='tanh')(rnn1)\n",
    "dense2 = Dense(50, activation='tanh')(dense1)\n",
    "dense3 = Dense(50, activation='tanh')(dense2)\n",
    "\n",
    "out = Dense(1, activation='sigmoid')(dense3)\n",
    "model = Model(inputs=word_indexes, outputs=out)"
   ]
  },
  {
   "cell_type": "code",
   "execution_count": 28,
   "metadata": {},
   "outputs": [],
   "source": [
    "from tensorflow import keras\n",
    "opt = keras.optimizers.Adam(learning_rate=0.0001)\n",
    "\n",
    "model.compile(optimizer=opt, loss='binary_crossentropy', metrics=[keras.metrics.AUC()])\n",
    "callback = keras.callbacks.EarlyStopping(monitor='val_loss', patience=6)"
   ]
  },
  {
   "cell_type": "code",
   "execution_count": 29,
   "metadata": {},
   "outputs": [
    {
     "name": "stdout",
     "output_type": "stream",
     "text": [
      "Epoch 1/100\n",
      "10/10 [==============================] - 23s 1s/step - loss: 0.6911 - auc_1: 0.4935 - val_loss: 0.6556 - val_auc_1: 0.4310\n",
      "Epoch 2/100\n",
      "10/10 [==============================] - 3s 284ms/step - loss: 0.6124 - auc_1: 0.5088 - val_loss: 0.6440 - val_auc_1: 0.4337\n",
      "Epoch 3/100\n",
      "10/10 [==============================] - 3s 292ms/step - loss: 0.5875 - auc_1: 0.4981 - val_loss: 0.6532 - val_auc_1: 0.4337\n",
      "Epoch 4/100\n",
      "10/10 [==============================] - 3s 299ms/step - loss: 0.5795 - auc_1: 0.5033 - val_loss: 0.6550 - val_auc_1: 0.4369\n",
      "Epoch 5/100\n",
      "10/10 [==============================] - 3s 287ms/step - loss: 0.5778 - auc_1: 0.4944 - val_loss: 0.6505 - val_auc_1: 0.4377\n",
      "Epoch 6/100\n",
      "10/10 [==============================] - 3s 284ms/step - loss: 0.5744 - auc_1: 0.4961 - val_loss: 0.6416 - val_auc_1: 0.4436\n",
      "Epoch 7/100\n",
      "10/10 [==============================] - 3s 246ms/step - loss: 0.5695 - auc_1: 0.5161 - val_loss: 0.6347 - val_auc_1: 0.4602\n",
      "Epoch 8/100\n",
      "10/10 [==============================] - 2s 237ms/step - loss: 0.5690 - auc_1: 0.5082 - val_loss: 0.6295 - val_auc_1: 0.4790\n",
      "Epoch 9/100\n",
      "10/10 [==============================] - 2s 247ms/step - loss: 0.5672 - auc_1: 0.5093 - val_loss: 0.6272 - val_auc_1: 0.4998\n",
      "Epoch 10/100\n",
      "10/10 [==============================] - 3s 281ms/step - loss: 0.5650 - auc_1: 0.5218 - val_loss: 0.6287 - val_auc_1: 0.5037\n",
      "Epoch 11/100\n",
      "10/10 [==============================] - 2s 245ms/step - loss: 0.5647 - auc_1: 0.5228 - val_loss: 0.6267 - val_auc_1: 0.5048\n",
      "Epoch 12/100\n",
      "10/10 [==============================] - 3s 268ms/step - loss: 0.5645 - auc_1: 0.5179 - val_loss: 0.6254 - val_auc_1: 0.5043\n",
      "Epoch 13/100\n",
      "10/10 [==============================] - 3s 305ms/step - loss: 0.5635 - auc_1: 0.5207 - val_loss: 0.6240 - val_auc_1: 0.4994\n",
      "Epoch 14/100\n",
      "10/10 [==============================] - 3s 300ms/step - loss: 0.5628 - auc_1: 0.5271 - val_loss: 0.6237 - val_auc_1: 0.4986\n",
      "Epoch 15/100\n",
      "10/10 [==============================] - 2s 240ms/step - loss: 0.5617 - auc_1: 0.5337 - val_loss: 0.6248 - val_auc_1: 0.5003\n",
      "Epoch 16/100\n",
      "10/10 [==============================] - 2s 251ms/step - loss: 0.5612 - auc_1: 0.5343 - val_loss: 0.6218 - val_auc_1: 0.4984\n",
      "Epoch 17/100\n",
      "10/10 [==============================] - 2s 242ms/step - loss: 0.5628 - auc_1: 0.5166 - val_loss: 0.6234 - val_auc_1: 0.5021\n",
      "Epoch 18/100\n",
      "10/10 [==============================] - 2s 249ms/step - loss: 0.5623 - auc_1: 0.5221 - val_loss: 0.6230 - val_auc_1: 0.5072\n",
      "Epoch 19/100\n",
      "10/10 [==============================] - 2s 244ms/step - loss: 0.5607 - auc_1: 0.5356 - val_loss: 0.6221 - val_auc_1: 0.5058\n",
      "Epoch 20/100\n",
      "10/10 [==============================] - 3s 252ms/step - loss: 0.5589 - auc_1: 0.5500 - val_loss: 0.6200 - val_auc_1: 0.5088\n",
      "Epoch 21/100\n",
      "10/10 [==============================] - 2s 244ms/step - loss: 0.5597 - auc_1: 0.5427 - val_loss: 0.6213 - val_auc_1: 0.5145\n",
      "Epoch 22/100\n",
      "10/10 [==============================] - 2s 241ms/step - loss: 0.5598 - auc_1: 0.5408 - val_loss: 0.6217 - val_auc_1: 0.5151\n",
      "Epoch 23/100\n",
      "10/10 [==============================] - 2s 251ms/step - loss: 0.5584 - auc_1: 0.5554 - val_loss: 0.6217 - val_auc_1: 0.5164\n",
      "Epoch 24/100\n",
      "10/10 [==============================] - 3s 255ms/step - loss: 0.5586 - auc_1: 0.5499 - val_loss: 0.6219 - val_auc_1: 0.5196\n",
      "Epoch 25/100\n",
      "10/10 [==============================] - 3s 260ms/step - loss: 0.5584 - auc_1: 0.5540 - val_loss: 0.6210 - val_auc_1: 0.5187\n",
      "Epoch 26/100\n",
      "10/10 [==============================] - 3s 268ms/step - loss: 0.5586 - auc_1: 0.5519 - val_loss: 0.6242 - val_auc_1: 0.5199\n"
     ]
    }
   ],
   "source": [
    "history = model.fit(tokenized_texts, y_train.values, validation_split=0.1, callbacks=[callback], epochs=100, batch_size=256)"
   ]
  },
  {
   "cell_type": "code",
   "execution_count": 30,
   "metadata": {},
   "outputs": [
    {
     "data": {
      "text/plain": [
       "26"
      ]
     },
     "execution_count": 30,
     "metadata": {},
     "output_type": "execute_result"
    }
   ],
   "source": [
    "len(history.history['loss'])"
   ]
  },
  {
   "cell_type": "code",
   "execution_count": 31,
   "metadata": {},
   "outputs": [],
   "source": [
    "preds = model.predict(tokenized_texts_test)"
   ]
  },
  {
   "cell_type": "code",
   "execution_count": 32,
   "metadata": {},
   "outputs": [],
   "source": [
    "y_pred = (preds >= 0.5).astype(bool)"
   ]
  },
  {
   "cell_type": "code",
   "execution_count": 33,
   "metadata": {},
   "outputs": [
    {
     "name": "stdout",
     "output_type": "stream",
     "text": [
      "              precision    recall  f1-score   support\n",
      "\n",
      "           0       0.77      1.00      0.87       532\n",
      "           1       0.00      0.00      0.00       162\n",
      "\n",
      "    accuracy                           0.77       694\n",
      "   macro avg       0.38      0.50      0.43       694\n",
      "weighted avg       0.59      0.77      0.67       694\n",
      "\n"
     ]
    },
    {
     "data": {
      "text/plain": [
       "0.5669845911073981"
      ]
     },
     "execution_count": 33,
     "metadata": {},
     "output_type": "execute_result"
    }
   ],
   "source": [
    "print(classification_report(y_test, y_pred))\n",
    "roc_auc_score(y_test, preds)"
   ]
  },
  {
   "cell_type": "markdown",
   "metadata": {},
   "source": [
    "Con la mejora del EarlyStopping y la LTSM empeoro.\n"
   ]
  },
  {
   "cell_type": "markdown",
   "metadata": {},
   "source": [
    "## Pruebo Conv1D"
   ]
  },
  {
   "cell_type": "code",
   "execution_count": 34,
   "metadata": {},
   "outputs": [],
   "source": [
    "word_indexes = Input((50,), dtype='int32')\n",
    "\n",
    "word_emb = Embedding(500002, 300, weights=[emb_matrix], \n",
    "                     trainable=False, mask_zero=True)\n",
    "\n",
    "emb_sequence = word_emb(word_indexes)\n",
    "conv1 = Conv1D(10,1,1,padding = 'same')(emb_sequence)\n",
    "conv1drop = Dropout(0.10)(conv1)\n",
    "conv2 = Conv1D(10,2,1,padding = 'same')(emb_sequence)\n",
    "conv2drop = Dropout(0.10)(conv2)\n",
    "conv3 = Conv1D(10,3,1,padding = 'same')(emb_sequence)\n",
    "conv3drop = Dropout(0.10)(conv3)\n",
    "concatted = Concatenate()([conv1drop, conv2drop, conv3drop])\n",
    "colap = GlobalMaxPooling1D()(concatted)\n",
    "dense1 = Dense(30, activation='tanh')(colap)\n",
    "dense1drop = Dropout(0.10)(dense1)\n",
    "dense2 = Dense(30, activation='tanh')(dense1drop)\n",
    "dense2drop = Dropout(0.10)(dense2)\n",
    "dense3 = Dense(30, activation='tanh')(dense2drop)\n",
    "\n",
    "\n",
    "out = Dense(1, activation='sigmoid')(dense3)\n",
    "model = Model(inputs=word_indexes, outputs=out)"
   ]
  },
  {
   "cell_type": "code",
   "execution_count": 35,
   "metadata": {},
   "outputs": [
    {
     "name": "stdout",
     "output_type": "stream",
     "text": [
      "Model: \"model_2\"\n",
      "__________________________________________________________________________________________________\n",
      " Layer (type)                   Output Shape         Param #     Connected to                     \n",
      "==================================================================================================\n",
      " input_3 (InputLayer)           [(None, 50)]         0           []                               \n",
      "                                                                                                  \n",
      " embedding_2 (Embedding)        (None, 50, 300)      150000600   ['input_3[0][0]']                \n",
      "                                                                                                  \n",
      " conv1d (Conv1D)                (None, 50, 10)       3010        ['embedding_2[0][0]']            \n",
      "                                                                                                  \n",
      " conv1d_1 (Conv1D)              (None, 50, 10)       6010        ['embedding_2[0][0]']            \n",
      "                                                                                                  \n",
      " conv1d_2 (Conv1D)              (None, 50, 10)       9010        ['embedding_2[0][0]']            \n",
      "                                                                                                  \n",
      " dropout_1 (Dropout)            (None, 50, 10)       0           ['conv1d[0][0]']                 \n",
      "                                                                                                  \n",
      " dropout_2 (Dropout)            (None, 50, 10)       0           ['conv1d_1[0][0]']               \n",
      "                                                                                                  \n",
      " dropout_3 (Dropout)            (None, 50, 10)       0           ['conv1d_2[0][0]']               \n",
      "                                                                                                  \n",
      " concatenate (Concatenate)      (None, 50, 30)       0           ['dropout_1[0][0]',              \n",
      "                                                                  'dropout_2[0][0]',              \n",
      "                                                                  'dropout_3[0][0]']              \n",
      "                                                                                                  \n",
      " global_max_pooling1d (GlobalMa  (None, 30)          0           ['concatenate[0][0]']            \n",
      " xPooling1D)                                                                                      \n",
      "                                                                                                  \n",
      " dense_8 (Dense)                (None, 30)           930         ['global_max_pooling1d[0][0]']   \n",
      "                                                                                                  \n",
      " dropout_4 (Dropout)            (None, 30)           0           ['dense_8[0][0]']                \n",
      "                                                                                                  \n",
      " dense_9 (Dense)                (None, 30)           930         ['dropout_4[0][0]']              \n",
      "                                                                                                  \n",
      " dropout_5 (Dropout)            (None, 30)           0           ['dense_9[0][0]']                \n",
      "                                                                                                  \n",
      " dense_10 (Dense)               (None, 30)           930         ['dropout_5[0][0]']              \n",
      "                                                                                                  \n",
      " dense_11 (Dense)               (None, 1)            31          ['dense_10[0][0]']               \n",
      "                                                                                                  \n",
      "==================================================================================================\n",
      "Total params: 150,021,451\n",
      "Trainable params: 20,851\n",
      "Non-trainable params: 150,000,600\n",
      "__________________________________________________________________________________________________\n"
     ]
    }
   ],
   "source": [
    "model.summary()"
   ]
  },
  {
   "cell_type": "code",
   "execution_count": 36,
   "metadata": {},
   "outputs": [
    {
     "data": {
      "text/plain": [
       "(2773, 1)"
      ]
     },
     "execution_count": 36,
     "metadata": {},
     "output_type": "execute_result"
    }
   ],
   "source": [
    "y_train.values.reshape(-1,1).shape"
   ]
  },
  {
   "cell_type": "code",
   "execution_count": 37,
   "metadata": {},
   "outputs": [],
   "source": [
    "from tensorflow import keras\n",
    "opt = keras.optimizers.Adam(learning_rate=0.001)\n",
    "\n",
    "model.compile(optimizer=opt, loss='binary_crossentropy', metrics=[keras.metrics.AUC()])\n",
    "callback = keras.callbacks.EarlyStopping(monitor='val_loss', patience=12,restore_best_weights=True)"
   ]
  },
  {
   "cell_type": "code",
   "execution_count": 38,
   "metadata": {},
   "outputs": [
    {
     "name": "stdout",
     "output_type": "stream",
     "text": [
      "Epoch 1/200\n",
      "39/39 [==============================] - 13s 123ms/step - loss: 0.5679 - auc_2: 0.5074 - val_loss: 0.6133 - val_auc_2: 0.5321\n",
      "Epoch 2/200\n",
      "39/39 [==============================] - 2s 58ms/step - loss: 0.5670 - auc_2: 0.5122 - val_loss: 0.6416 - val_auc_2: 0.5601\n",
      "Epoch 3/200\n",
      "39/39 [==============================] - 2s 52ms/step - loss: 0.5601 - auc_2: 0.5458 - val_loss: 0.6293 - val_auc_2: 0.5228\n",
      "Epoch 4/200\n",
      "39/39 [==============================] - 2s 48ms/step - loss: 0.5630 - auc_2: 0.5223 - val_loss: 0.6245 - val_auc_2: 0.5685\n",
      "Epoch 5/200\n",
      "39/39 [==============================] - 2s 61ms/step - loss: 0.5557 - auc_2: 0.5516 - val_loss: 0.6071 - val_auc_2: 0.6057\n",
      "Epoch 6/200\n",
      "39/39 [==============================] - 2s 51ms/step - loss: 0.5402 - auc_2: 0.6275 - val_loss: 0.6537 - val_auc_2: 0.5890\n",
      "Epoch 7/200\n",
      "39/39 [==============================] - 2s 52ms/step - loss: 0.4897 - auc_2: 0.7409 - val_loss: 0.6310 - val_auc_2: 0.5913\n",
      "Epoch 8/200\n",
      "39/39 [==============================] - 2s 42ms/step - loss: 0.4073 - auc_2: 0.8415 - val_loss: 0.6586 - val_auc_2: 0.6059\n",
      "Epoch 9/200\n",
      "39/39 [==============================] - 2s 46ms/step - loss: 0.3083 - auc_2: 0.9175 - val_loss: 0.7724 - val_auc_2: 0.5838\n",
      "Epoch 10/200\n",
      "39/39 [==============================] - 2s 43ms/step - loss: 0.2649 - auc_2: 0.9376 - val_loss: 0.8485 - val_auc_2: 0.5841\n",
      "Epoch 11/200\n",
      "39/39 [==============================] - 2s 52ms/step - loss: 0.1744 - auc_2: 0.9718 - val_loss: 0.9840 - val_auc_2: 0.5817s: 0.1720 - auc_2: 0.97\n",
      "Epoch 12/200\n",
      "39/39 [==============================] - 2s 46ms/step - loss: 0.1514 - auc_2: 0.9769 - val_loss: 1.0498 - val_auc_2: 0.5790\n",
      "Epoch 13/200\n",
      "39/39 [==============================] - 2s 47ms/step - loss: 0.1134 - auc_2: 0.9880 - val_loss: 1.2343 - val_auc_2: 0.5684\n",
      "Epoch 14/200\n",
      "39/39 [==============================] - 2s 44ms/step - loss: 0.1059 - auc_2: 0.9892 - val_loss: 1.1802 - val_auc_2: 0.5827\n",
      "Epoch 15/200\n",
      "39/39 [==============================] - 2s 47ms/step - loss: 0.0976 - auc_2: 0.9891 - val_loss: 1.2987 - val_auc_2: 0.5747\n",
      "Epoch 16/200\n",
      "39/39 [==============================] - 2s 43ms/step - loss: 0.0855 - auc_2: 0.9931 - val_loss: 1.2609 - val_auc_2: 0.5790\n",
      "Epoch 17/200\n",
      "39/39 [==============================] - 2s 50ms/step - loss: 0.0717 - auc_2: 0.9947 - val_loss: 1.3108 - val_auc_2: 0.5912\n"
     ]
    }
   ],
   "source": [
    "history = model.fit(tokenized_texts, y_train.values, validation_split=0.1, callbacks=[callback], epochs=200,batch_size=64)"
   ]
  },
  {
   "cell_type": "code",
   "execution_count": 39,
   "metadata": {},
   "outputs": [],
   "source": [
    "preds = model.predict(tokenized_texts_test)"
   ]
  },
  {
   "cell_type": "code",
   "execution_count": 40,
   "metadata": {},
   "outputs": [],
   "source": [
    "y_pred = (preds >= 0.5).astype(bool)"
   ]
  },
  {
   "cell_type": "code",
   "execution_count": 41,
   "metadata": {},
   "outputs": [
    {
     "name": "stdout",
     "output_type": "stream",
     "text": [
      "              precision    recall  f1-score   support\n",
      "\n",
      "           0       0.77      1.00      0.87       532\n",
      "           1       0.00      0.00      0.00       162\n",
      "\n",
      "    accuracy                           0.77       694\n",
      "   macro avg       0.38      0.50      0.43       694\n",
      "weighted avg       0.59      0.77      0.67       694\n",
      "\n"
     ]
    },
    {
     "data": {
      "text/plain": [
       "0.58994708994709"
      ]
     },
     "execution_count": 41,
     "metadata": {},
     "output_type": "execute_result"
    }
   ],
   "source": [
    "print(classification_report(y_test, y_pred))\n",
    "roc_auc_score(y_test, preds)"
   ]
  },
  {
   "cell_type": "markdown",
   "metadata": {},
   "source": [
    "## Pruebo Conv1D combinado con LSTM"
   ]
  },
  {
   "cell_type": "code",
   "execution_count": 53,
   "metadata": {},
   "outputs": [],
   "source": [
    "word_indexes = Input((50,), dtype='int32')\n",
    "\n",
    "word_emb = Embedding(500002, 300, weights=[emb_matrix], \n",
    "                     trainable=False, mask_zero=True)\n",
    "\n",
    "emb_sequence = word_emb(word_indexes)\n",
    "gru = GRU(30, activation='tanh',dropout=0.1)(emb_sequence)\n",
    "rnn1 = Dropout(0.40)(gru)\n",
    "conv1 = Conv1D(10,1,1,padding = 'same')(emb_sequence)\n",
    "conv1drop = Dropout(0.40)(conv1)\n",
    "conv2 = Conv1D(10,2,1,padding = 'same')(emb_sequence)\n",
    "conv2drop = Dropout(0.40)(conv2)\n",
    "conv3 = Conv1D(10,3,1,padding = 'same')(emb_sequence)\n",
    "conv3drop = Dropout(0.40)(conv3)\n",
    "concatted = Concatenate()([conv1drop, conv2drop, conv3drop])\n",
    "colap = GlobalMaxPooling1D()(concatted)\n",
    "concatted2 = Concatenate()([colap,rnn1])\n",
    "dense1 = Dense(40, activation='tanh')(concatted2)\n",
    "dense1drop = Dropout(0.10)(dense1)\n",
    "dense2 = Dense(40, activation='tanh')(dense1drop)\n",
    "dense2drop = Dropout(0.10)(dense2)\n",
    "dense3 = Dense(40, activation='tanh')(dense2drop)\n",
    "\n",
    "\n",
    "out = Dense(1, activation='sigmoid')(dense3)\n",
    "model = Model(inputs=word_indexes, outputs=out)"
   ]
  },
  {
   "cell_type": "code",
   "execution_count": 54,
   "metadata": {},
   "outputs": [
    {
     "name": "stdout",
     "output_type": "stream",
     "text": [
      "Model: \"model_4\"\n",
      "__________________________________________________________________________________________________\n",
      " Layer (type)                   Output Shape         Param #     Connected to                     \n",
      "==================================================================================================\n",
      " input_5 (InputLayer)           [(None, 50)]         0           []                               \n",
      "                                                                                                  \n",
      " embedding_4 (Embedding)        (None, 50, 300)      150000600   ['input_5[0][0]']                \n",
      "                                                                                                  \n",
      " conv1d_6 (Conv1D)              (None, 50, 10)       3010        ['embedding_4[0][0]']            \n",
      "                                                                                                  \n",
      " conv1d_7 (Conv1D)              (None, 50, 10)       6010        ['embedding_4[0][0]']            \n",
      "                                                                                                  \n",
      " conv1d_8 (Conv1D)              (None, 50, 10)       9010        ['embedding_4[0][0]']            \n",
      "                                                                                                  \n",
      " dropout_13 (Dropout)           (None, 50, 10)       0           ['conv1d_6[0][0]']               \n",
      "                                                                                                  \n",
      " dropout_14 (Dropout)           (None, 50, 10)       0           ['conv1d_7[0][0]']               \n",
      "                                                                                                  \n",
      " dropout_15 (Dropout)           (None, 50, 10)       0           ['conv1d_8[0][0]']               \n",
      "                                                                                                  \n",
      " concatenate_3 (Concatenate)    (None, 50, 30)       0           ['dropout_13[0][0]',             \n",
      "                                                                  'dropout_14[0][0]',             \n",
      "                                                                  'dropout_15[0][0]']             \n",
      "                                                                                                  \n",
      " gru_1 (GRU)                    (None, 30)           29880       ['embedding_4[0][0]']            \n",
      "                                                                                                  \n",
      " global_max_pooling1d_2 (Global  (None, 30)          0           ['concatenate_3[0][0]']          \n",
      " MaxPooling1D)                                                                                    \n",
      "                                                                                                  \n",
      " dropout_12 (Dropout)           (None, 30)           0           ['gru_1[0][0]']                  \n",
      "                                                                                                  \n",
      " concatenate_4 (Concatenate)    (None, 60)           0           ['global_max_pooling1d_2[0][0]', \n",
      "                                                                  'dropout_12[0][0]']             \n",
      "                                                                                                  \n",
      " dense_16 (Dense)               (None, 40)           2440        ['concatenate_4[0][0]']          \n",
      "                                                                                                  \n",
      " dropout_16 (Dropout)           (None, 40)           0           ['dense_16[0][0]']               \n",
      "                                                                                                  \n",
      " dense_17 (Dense)               (None, 40)           1640        ['dropout_16[0][0]']             \n",
      "                                                                                                  \n",
      " dropout_17 (Dropout)           (None, 40)           0           ['dense_17[0][0]']               \n",
      "                                                                                                  \n",
      " dense_18 (Dense)               (None, 40)           1640        ['dropout_17[0][0]']             \n",
      "                                                                                                  \n",
      " dense_19 (Dense)               (None, 1)            41          ['dense_18[0][0]']               \n",
      "                                                                                                  \n",
      "==================================================================================================\n",
      "Total params: 150,054,271\n",
      "Trainable params: 53,671\n",
      "Non-trainable params: 150,000,600\n",
      "__________________________________________________________________________________________________\n"
     ]
    }
   ],
   "source": [
    "model.summary()"
   ]
  },
  {
   "cell_type": "code",
   "execution_count": 55,
   "metadata": {},
   "outputs": [],
   "source": [
    "from tensorflow import keras\n",
    "opt = keras.optimizers.Adam(learning_rate=0.01)\n",
    "\n",
    "model.compile(optimizer=opt, loss='binary_crossentropy', metrics=[keras.metrics.AUC()])\n",
    "callback = keras.callbacks.EarlyStopping(monitor='val_loss', patience=200,restore_best_weights=True)"
   ]
  },
  {
   "cell_type": "code",
   "execution_count": 56,
   "metadata": {},
   "outputs": [
    {
     "name": "stdout",
     "output_type": "stream",
     "text": [
      "Epoch 1/200\n",
      "1/1 [==============================] - 25s 25s/step - loss: 0.6611 - auc_4: 0.5022 - val_loss: 0.8277 - val_auc_4: 0.5372\n",
      "Epoch 2/200\n",
      "1/1 [==============================] - 3s 3s/step - loss: 0.6796 - auc_4: 0.5087 - val_loss: 0.6633 - val_auc_4: 0.5431\n",
      "Epoch 3/200\n",
      "1/1 [==============================] - 2s 2s/step - loss: 0.5911 - auc_4: 0.4831 - val_loss: 0.6373 - val_auc_4: 0.5588\n",
      "Epoch 4/200\n",
      "1/1 [==============================] - 2s 2s/step - loss: 0.6147 - auc_4: 0.5106 - val_loss: 0.6150 - val_auc_4: 0.5383\n",
      "Epoch 5/200\n",
      "1/1 [==============================] - 2s 2s/step - loss: 0.5871 - auc_4: 0.5132 - val_loss: 0.6179 - val_auc_4: 0.5188\n",
      "Epoch 6/200\n",
      "1/1 [==============================] - 2s 2s/step - loss: 0.5647 - auc_4: 0.5098 - val_loss: 0.6513 - val_auc_4: 0.4854\n",
      "Epoch 7/200\n",
      "1/1 [==============================] - 2s 2s/step - loss: 0.5749 - auc_4: 0.5059 - val_loss: 0.6622 - val_auc_4: 0.4998\n",
      "Epoch 8/200\n",
      "1/1 [==============================] - 2s 2s/step - loss: 0.5803 - auc_4: 0.5061 - val_loss: 0.6457 - val_auc_4: 0.5138\n",
      "Epoch 9/200\n",
      "1/1 [==============================] - 2s 2s/step - loss: 0.5727 - auc_4: 0.5040 - val_loss: 0.6218 - val_auc_4: 0.5301\n",
      "Epoch 10/200\n",
      "1/1 [==============================] - 2s 2s/step - loss: 0.5635 - auc_4: 0.5177 - val_loss: 0.6104 - val_auc_4: 0.5230\n",
      "Epoch 11/200\n",
      "1/1 [==============================] - 2s 2s/step - loss: 0.5686 - auc_4: 0.4968 - val_loss: 0.6094 - val_auc_4: 0.5223\n",
      "Epoch 12/200\n",
      "1/1 [==============================] - 2s 2s/step - loss: 0.5701 - auc_4: 0.5125 - val_loss: 0.6099 - val_auc_4: 0.5019\n",
      "Epoch 13/200\n",
      "1/1 [==============================] - 3s 3s/step - loss: 0.5694 - auc_4: 0.4914 - val_loss: 0.6131 - val_auc_4: 0.4978\n",
      "Epoch 14/200\n",
      "1/1 [==============================] - 4s 4s/step - loss: 0.5648 - auc_4: 0.4935 - val_loss: 0.6197 - val_auc_4: 0.5111\n",
      "Epoch 15/200\n",
      "1/1 [==============================] - 4s 4s/step - loss: 0.5624 - auc_4: 0.5100 - val_loss: 0.6264 - val_auc_4: 0.5340\n",
      "Epoch 16/200\n",
      "1/1 [==============================] - 3s 3s/step - loss: 0.5651 - auc_4: 0.4979 - val_loss: 0.6292 - val_auc_4: 0.5229\n",
      "Epoch 17/200\n",
      "1/1 [==============================] - 3s 3s/step - loss: 0.5669 - auc_4: 0.4928 - val_loss: 0.6269 - val_auc_4: 0.5042\n",
      "Epoch 18/200\n",
      "1/1 [==============================] - 3s 3s/step - loss: 0.5639 - auc_4: 0.5186 - val_loss: 0.6212 - val_auc_4: 0.5153\n",
      "Epoch 19/200\n",
      "1/1 [==============================] - 3s 3s/step - loss: 0.5627 - auc_4: 0.5198 - val_loss: 0.6157 - val_auc_4: 0.5193\n",
      "Epoch 20/200\n",
      "1/1 [==============================] - 4s 4s/step - loss: 0.5619 - auc_4: 0.5125 - val_loss: 0.6122 - val_auc_4: 0.5276\n",
      "Epoch 21/200\n",
      "1/1 [==============================] - 3s 3s/step - loss: 0.5637 - auc_4: 0.4902 - val_loss: 0.6108 - val_auc_4: 0.5724\n",
      "Epoch 22/200\n",
      "1/1 [==============================] - 3s 3s/step - loss: 0.5646 - auc_4: 0.4964 - val_loss: 0.6107 - val_auc_4: 0.5260\n",
      "Epoch 23/200\n",
      "1/1 [==============================] - 3s 3s/step - loss: 0.5633 - auc_4: 0.5107 - val_loss: 0.6119 - val_auc_4: 0.5218\n",
      "Epoch 24/200\n",
      "1/1 [==============================] - 3s 3s/step - loss: 0.5637 - auc_4: 0.4948 - val_loss: 0.6145 - val_auc_4: 0.5092\n",
      "Epoch 25/200\n",
      "1/1 [==============================] - 3s 3s/step - loss: 0.5637 - auc_4: 0.4888 - val_loss: 0.6181 - val_auc_4: 0.5154\n",
      "Epoch 26/200\n",
      "1/1 [==============================] - 3s 3s/step - loss: 0.5625 - auc_4: 0.5039 - val_loss: 0.6212 - val_auc_4: 0.5041\n",
      "Epoch 27/200\n",
      "1/1 [==============================] - 3s 3s/step - loss: 0.5617 - auc_4: 0.5116 - val_loss: 0.6224 - val_auc_4: 0.4864\n",
      "Epoch 28/200\n",
      "1/1 [==============================] - 3s 3s/step - loss: 0.5618 - auc_4: 0.5251 - val_loss: 0.6214 - val_auc_4: 0.4966\n",
      "Epoch 29/200\n",
      "1/1 [==============================] - 3s 3s/step - loss: 0.5615 - auc_4: 0.5171 - val_loss: 0.6188 - val_auc_4: 0.4813\n",
      "Epoch 30/200\n",
      "1/1 [==============================] - 3s 3s/step - loss: 0.5604 - auc_4: 0.5310 - val_loss: 0.6159 - val_auc_4: 0.4813\n",
      "Epoch 31/200\n",
      "1/1 [==============================] - 3s 3s/step - loss: 0.5619 - auc_4: 0.5046 - val_loss: 0.6139 - val_auc_4: 0.4813\n",
      "Epoch 32/200\n",
      "1/1 [==============================] - 3s 3s/step - loss: 0.5624 - auc_4: 0.5034 - val_loss: 0.6131 - val_auc_4: 0.4737\n",
      "Epoch 33/200\n",
      "1/1 [==============================] - 3s 3s/step - loss: 0.5621 - auc_4: 0.5017 - val_loss: 0.6132 - val_auc_4: 0.4828\n",
      "Epoch 34/200\n",
      "1/1 [==============================] - 3s 3s/step - loss: 0.5610 - auc_4: 0.5157 - val_loss: 0.6143 - val_auc_4: 0.4827\n",
      "Epoch 35/200\n",
      "1/1 [==============================] - 3s 3s/step - loss: 0.5611 - auc_4: 0.5057 - val_loss: 0.6161 - val_auc_4: 0.4827\n",
      "Epoch 36/200\n",
      "1/1 [==============================] - 3s 3s/step - loss: 0.5608 - auc_4: 0.5087 - val_loss: 0.6182 - val_auc_4: 0.4884\n",
      "Epoch 37/200\n",
      "1/1 [==============================] - 3s 3s/step - loss: 0.5606 - auc_4: 0.5013 - val_loss: 0.6199 - val_auc_4: 0.4884\n",
      "Epoch 38/200\n",
      "1/1 [==============================] - 3s 3s/step - loss: 0.5600 - auc_4: 0.5180 - val_loss: 0.6207 - val_auc_4: 0.4884\n",
      "Epoch 39/200\n",
      "1/1 [==============================] - 3s 3s/step - loss: 0.5585 - auc_4: 0.5361 - val_loss: 0.6206 - val_auc_4: 0.4884\n",
      "Epoch 40/200\n",
      "1/1 [==============================] - 4s 4s/step - loss: 0.5591 - auc_4: 0.5158 - val_loss: 0.6195 - val_auc_4: 0.4877\n",
      "Epoch 41/200\n",
      "1/1 [==============================] - 3s 3s/step - loss: 0.5604 - auc_4: 0.4976 - val_loss: 0.6180 - val_auc_4: 0.4788\n",
      "Epoch 42/200\n",
      "1/1 [==============================] - 3s 3s/step - loss: 0.5580 - auc_4: 0.5158 - val_loss: 0.6166 - val_auc_4: 0.4806\n",
      "Epoch 43/200\n",
      "1/1 [==============================] - 3s 3s/step - loss: 0.5587 - auc_4: 0.5122 - val_loss: 0.6159 - val_auc_4: 0.4755\n",
      "Epoch 44/200\n",
      "1/1 [==============================] - 3s 3s/step - loss: 0.5586 - auc_4: 0.5060 - val_loss: 0.6157 - val_auc_4: 0.4806\n",
      "Epoch 45/200\n",
      "1/1 [==============================] - 3s 3s/step - loss: 0.5578 - auc_4: 0.5130 - val_loss: 0.6161 - val_auc_4: 0.4856\n",
      "Epoch 46/200\n",
      "1/1 [==============================] - 3s 3s/step - loss: 0.5578 - auc_4: 0.5045 - val_loss: 0.6171 - val_auc_4: 0.4849\n",
      "Epoch 47/200\n",
      "1/1 [==============================] - 4s 4s/step - loss: 0.5549 - auc_4: 0.5379 - val_loss: 0.6183 - val_auc_4: 0.4856\n",
      "Epoch 48/200\n",
      "1/1 [==============================] - 3s 3s/step - loss: 0.5554 - auc_4: 0.5197 - val_loss: 0.6193 - val_auc_4: 0.4856\n",
      "Epoch 49/200\n",
      "1/1 [==============================] - 3s 3s/step - loss: 0.5544 - auc_4: 0.5377 - val_loss: 0.6194 - val_auc_4: 0.4956\n",
      "Epoch 50/200\n",
      "1/1 [==============================] - 3s 3s/step - loss: 0.5538 - auc_4: 0.5302 - val_loss: 0.6194 - val_auc_4: 0.4957\n",
      "Epoch 51/200\n",
      "1/1 [==============================] - 4s 4s/step - loss: 0.5530 - auc_4: 0.5293 - val_loss: 0.6200 - val_auc_4: 0.4808\n",
      "Epoch 52/200\n",
      "1/1 [==============================] - 3s 3s/step - loss: 0.5515 - auc_4: 0.5393 - val_loss: 0.6219 - val_auc_4: 0.4907\n",
      "Epoch 53/200\n",
      "1/1 [==============================] - 3s 3s/step - loss: 0.5520 - auc_4: 0.5297 - val_loss: 0.6214 - val_auc_4: 0.4895\n",
      "Epoch 54/200\n",
      "1/1 [==============================] - 3s 3s/step - loss: 0.5504 - auc_4: 0.5390 - val_loss: 0.6195 - val_auc_4: 0.5006\n",
      "Epoch 55/200\n",
      "1/1 [==============================] - 3s 3s/step - loss: 0.5497 - auc_4: 0.5482 - val_loss: 0.6192 - val_auc_4: 0.5006\n",
      "Epoch 56/200\n",
      "1/1 [==============================] - 3s 3s/step - loss: 0.5494 - auc_4: 0.5400 - val_loss: 0.6211 - val_auc_4: 0.4960\n",
      "Epoch 57/200\n",
      "1/1 [==============================] - 3s 3s/step - loss: 0.5505 - auc_4: 0.5158 - val_loss: 0.6229 - val_auc_4: 0.4971\n",
      "Epoch 58/200\n",
      "1/1 [==============================] - 3s 3s/step - loss: 0.5486 - auc_4: 0.5559 - val_loss: 0.6237 - val_auc_4: 0.4686\n",
      "Epoch 59/200\n",
      "1/1 [==============================] - 3s 3s/step - loss: 0.5476 - auc_4: 0.5508 - val_loss: 0.6237 - val_auc_4: 0.4798\n",
      "Epoch 60/200\n",
      "1/1 [==============================] - 3s 3s/step - loss: 0.5491 - auc_4: 0.5295 - val_loss: 0.6232 - val_auc_4: 0.4804\n",
      "Epoch 61/200\n",
      "1/1 [==============================] - 3s 3s/step - loss: 0.5485 - auc_4: 0.5387 - val_loss: 0.6224 - val_auc_4: 0.4791\n",
      "Epoch 62/200\n"
     ]
    },
    {
     "name": "stdout",
     "output_type": "stream",
     "text": [
      "1/1 [==============================] - 3s 3s/step - loss: 0.5475 - auc_4: 0.5383 - val_loss: 0.6228 - val_auc_4: 0.5013\n",
      "Epoch 63/200\n",
      "1/1 [==============================] - 3s 3s/step - loss: 0.5465 - auc_4: 0.5528 - val_loss: 0.6219 - val_auc_4: 0.4739\n",
      "Epoch 64/200\n",
      "1/1 [==============================] - 3s 3s/step - loss: 0.5461 - auc_4: 0.5396 - val_loss: 0.6219 - val_auc_4: 0.5295\n",
      "Epoch 65/200\n",
      "1/1 [==============================] - 3s 3s/step - loss: 0.5453 - auc_4: 0.5528 - val_loss: 0.6216 - val_auc_4: 0.4808\n",
      "Epoch 66/200\n",
      "1/1 [==============================] - 3s 3s/step - loss: 0.5452 - auc_4: 0.5499 - val_loss: 0.6225 - val_auc_4: 0.4787\n",
      "Epoch 67/200\n",
      "1/1 [==============================] - 3s 3s/step - loss: 0.5446 - auc_4: 0.5465 - val_loss: 0.6226 - val_auc_4: 0.5050\n",
      "Epoch 68/200\n",
      "1/1 [==============================] - 3s 3s/step - loss: 0.5468 - auc_4: 0.5309 - val_loss: 0.6243 - val_auc_4: 0.4959\n",
      "Epoch 69/200\n",
      "1/1 [==============================] - 3s 3s/step - loss: 0.5453 - auc_4: 0.5290 - val_loss: 0.6220 - val_auc_4: 0.4943\n",
      "Epoch 70/200\n",
      "1/1 [==============================] - 3s 3s/step - loss: 0.5459 - auc_4: 0.5226 - val_loss: 0.6232 - val_auc_4: 0.4912\n",
      "Epoch 71/200\n",
      "1/1 [==============================] - 3s 3s/step - loss: 0.5430 - auc_4: 0.5600 - val_loss: 0.6274 - val_auc_4: 0.4923\n",
      "Epoch 72/200\n",
      "1/1 [==============================] - 3s 3s/step - loss: 0.5450 - auc_4: 0.5143 - val_loss: 0.6292 - val_auc_4: 0.5028\n",
      "Epoch 73/200\n",
      "1/1 [==============================] - 3s 3s/step - loss: 0.5429 - auc_4: 0.5548 - val_loss: 0.6301 - val_auc_4: 0.4984\n",
      "Epoch 74/200\n",
      "1/1 [==============================] - ETA: 0s - loss: 0.5427 - auc_4: 0.543 - 3s 3s/step - loss: 0.5427 - auc_4: 0.5431 - val_loss: 0.6299 - val_auc_4: 0.4958\n",
      "Epoch 75/200\n",
      "1/1 [==============================] - 3s 3s/step - loss: 0.5425 - auc_4: 0.5524 - val_loss: 0.6268 - val_auc_4: 0.5058\n",
      "Epoch 76/200\n",
      "1/1 [==============================] - 4s 4s/step - loss: 0.5418 - auc_4: 0.5551 - val_loss: 0.6235 - val_auc_4: 0.5033\n",
      "Epoch 77/200\n",
      "1/1 [==============================] - 3s 3s/step - loss: 0.5421 - auc_4: 0.5487 - val_loss: 0.6225 - val_auc_4: 0.5070\n",
      "Epoch 78/200\n",
      "1/1 [==============================] - 4s 4s/step - loss: 0.5436 - auc_4: 0.5330 - val_loss: 0.6263 - val_auc_4: 0.5008\n",
      "Epoch 79/200\n",
      "1/1 [==============================] - 3s 3s/step - loss: 0.5415 - auc_4: 0.5558 - val_loss: 0.6303 - val_auc_4: 0.4958\n",
      "Epoch 80/200\n",
      "1/1 [==============================] - 3s 3s/step - loss: 0.5421 - auc_4: 0.5426 - val_loss: 0.6335 - val_auc_4: 0.5033\n",
      "Epoch 81/200\n",
      "1/1 [==============================] - 4s 4s/step - loss: 0.5416 - auc_4: 0.5456 - val_loss: 0.6352 - val_auc_4: 0.4909\n",
      "Epoch 82/200\n",
      "1/1 [==============================] - 3s 3s/step - loss: 0.5417 - auc_4: 0.5487 - val_loss: 0.6357 - val_auc_4: 0.5022\n",
      "Epoch 83/200\n",
      "1/1 [==============================] - 4s 4s/step - loss: 0.5418 - auc_4: 0.5437 - val_loss: 0.6342 - val_auc_4: 0.4983\n",
      "Epoch 84/200\n",
      "1/1 [==============================] - 3s 3s/step - loss: 0.5425 - auc_4: 0.5367 - val_loss: 0.6323 - val_auc_4: 0.4926\n",
      "Epoch 85/200\n",
      "1/1 [==============================] - 3s 3s/step - loss: 0.5402 - auc_4: 0.5616 - val_loss: 0.6307 - val_auc_4: 0.5079\n",
      "Epoch 86/200\n",
      "1/1 [==============================] - 3s 3s/step - loss: 0.5420 - auc_4: 0.5374 - val_loss: 0.6287 - val_auc_4: 0.5113\n",
      "Epoch 87/200\n",
      "1/1 [==============================] - 3s 3s/step - loss: 0.5419 - auc_4: 0.5355 - val_loss: 0.6264 - val_auc_4: 0.5006\n",
      "Epoch 88/200\n",
      "1/1 [==============================] - 3s 3s/step - loss: 0.5411 - auc_4: 0.5411 - val_loss: 0.6248 - val_auc_4: 0.5008\n",
      "Epoch 89/200\n",
      "1/1 [==============================] - 3s 3s/step - loss: 0.5411 - auc_4: 0.5465 - val_loss: 0.6239 - val_auc_4: 0.5007\n",
      "Epoch 90/200\n",
      "1/1 [==============================] - 3s 3s/step - loss: 0.5420 - auc_4: 0.5314 - val_loss: 0.6242 - val_auc_4: 0.5008\n",
      "Epoch 91/200\n",
      "1/1 [==============================] - 3s 3s/step - loss: 0.5419 - auc_4: 0.5305 - val_loss: 0.6259 - val_auc_4: 0.5008\n",
      "Epoch 92/200\n",
      "1/1 [==============================] - 3s 3s/step - loss: 0.5393 - auc_4: 0.5652 - val_loss: 0.6287 - val_auc_4: 0.5008\n",
      "Epoch 93/200\n",
      "1/1 [==============================] - 4s 4s/step - loss: 0.5415 - auc_4: 0.5333 - val_loss: 0.6320 - val_auc_4: 0.5009\n",
      "Epoch 94/200\n",
      "1/1 [==============================] - 4s 4s/step - loss: 0.5402 - auc_4: 0.5450 - val_loss: 0.6346 - val_auc_4: 0.4887\n",
      "Epoch 95/200\n",
      "1/1 [==============================] - 3s 3s/step - loss: 0.5419 - auc_4: 0.5207 - val_loss: 0.6362 - val_auc_4: 0.4963\n",
      "Epoch 96/200\n",
      "1/1 [==============================] - 4s 4s/step - loss: 0.5409 - auc_4: 0.5443 - val_loss: 0.6375 - val_auc_4: 0.5182\n",
      "Epoch 97/200\n",
      "1/1 [==============================] - 3s 3s/step - loss: 0.5414 - auc_4: 0.5151 - val_loss: 0.6385 - val_auc_4: 0.5117\n",
      "Epoch 98/200\n",
      "1/1 [==============================] - 4s 4s/step - loss: 0.5392 - auc_4: 0.5667 - val_loss: 0.6375 - val_auc_4: 0.5227\n",
      "Epoch 99/200\n",
      "1/1 [==============================] - 3s 3s/step - loss: 0.5399 - auc_4: 0.5408 - val_loss: 0.6364 - val_auc_4: 0.5277\n",
      "Epoch 100/200\n",
      "1/1 [==============================] - 3s 3s/step - loss: 0.5401 - auc_4: 0.5412 - val_loss: 0.6342 - val_auc_4: 0.5210\n",
      "Epoch 101/200\n",
      "1/1 [==============================] - 3s 3s/step - loss: 0.5400 - auc_4: 0.5477 - val_loss: 0.6312 - val_auc_4: 0.5226\n",
      "Epoch 102/200\n",
      "1/1 [==============================] - 3s 3s/step - loss: 0.5408 - auc_4: 0.5322 - val_loss: 0.6288 - val_auc_4: 0.5234\n",
      "Epoch 103/200\n",
      "1/1 [==============================] - 3s 3s/step - loss: 0.5410 - auc_4: 0.5280 - val_loss: 0.6277 - val_auc_4: 0.5219\n",
      "Epoch 104/200\n",
      "1/1 [==============================] - 3s 3s/step - loss: 0.5389 - auc_4: 0.5638 - val_loss: 0.6272 - val_auc_4: 0.5239\n",
      "Epoch 105/200\n",
      "1/1 [==============================] - 3s 3s/step - loss: 0.5405 - auc_4: 0.5324 - val_loss: 0.6271 - val_auc_4: 0.5259\n",
      "Epoch 106/200\n",
      "1/1 [==============================] - 4s 4s/step - loss: 0.5393 - auc_4: 0.5510 - val_loss: 0.6283 - val_auc_4: 0.5365\n",
      "Epoch 107/200\n",
      "1/1 [==============================] - 4s 4s/step - loss: 0.5399 - auc_4: 0.5486 - val_loss: 0.6298 - val_auc_4: 0.5523\n",
      "Epoch 108/200\n",
      "1/1 [==============================] - 3s 3s/step - loss: 0.5390 - auc_4: 0.5514 - val_loss: 0.6315 - val_auc_4: 0.5370\n",
      "Epoch 109/200\n",
      "1/1 [==============================] - 3s 3s/step - loss: 0.5391 - auc_4: 0.5689 - val_loss: 0.6338 - val_auc_4: 0.5110\n",
      "Epoch 110/200\n",
      "1/1 [==============================] - 3s 3s/step - loss: 0.5393 - auc_4: 0.5548 - val_loss: 0.6377 - val_auc_4: 0.5133\n",
      "Epoch 111/200\n",
      "1/1 [==============================] - 3s 3s/step - loss: 0.5394 - auc_4: 0.5524 - val_loss: 0.6404 - val_auc_4: 0.5156\n",
      "Epoch 112/200\n",
      "1/1 [==============================] - 3s 3s/step - loss: 0.5390 - auc_4: 0.5504 - val_loss: 0.6420 - val_auc_4: 0.5320\n",
      "Epoch 113/200\n",
      "1/1 [==============================] - 3s 3s/step - loss: 0.5406 - auc_4: 0.5291 - val_loss: 0.6430 - val_auc_4: 0.5374\n",
      "Epoch 114/200\n",
      "1/1 [==============================] - 3s 3s/step - loss: 0.5383 - auc_4: 0.5672 - val_loss: 0.6443 - val_auc_4: 0.5160\n",
      "Epoch 115/200\n",
      "1/1 [==============================] - 3s 3s/step - loss: 0.5399 - auc_4: 0.5390 - val_loss: 0.6458 - val_auc_4: 0.5060\n",
      "Epoch 116/200\n",
      "1/1 [==============================] - 3s 3s/step - loss: 0.5388 - auc_4: 0.5613 - val_loss: 0.6473 - val_auc_4: 0.5060\n",
      "Epoch 117/200\n",
      "1/1 [==============================] - 3s 3s/step - loss: 0.5382 - auc_4: 0.5667 - val_loss: 0.6482 - val_auc_4: 0.5203\n",
      "Epoch 118/200\n",
      "1/1 [==============================] - 3s 3s/step - loss: 0.5398 - auc_4: 0.5359 - val_loss: 0.6489 - val_auc_4: 0.5078\n",
      "Epoch 119/200\n",
      "1/1 [==============================] - 3s 3s/step - loss: 0.5397 - auc_4: 0.5523 - val_loss: 0.6460 - val_auc_4: 0.4937\n",
      "Epoch 120/200\n",
      "1/1 [==============================] - 3s 3s/step - loss: 0.5392 - auc_4: 0.5467 - val_loss: 0.6429 - val_auc_4: 0.5033\n",
      "Epoch 121/200\n",
      "1/1 [==============================] - 3s 3s/step - loss: 0.5381 - auc_4: 0.5656 - val_loss: 0.6375 - val_auc_4: 0.5033\n",
      "Epoch 122/200\n",
      "1/1 [==============================] - 3s 3s/step - loss: 0.5376 - auc_4: 0.5650 - val_loss: 0.6335 - val_auc_4: 0.5055\n",
      "Epoch 123/200\n"
     ]
    },
    {
     "name": "stdout",
     "output_type": "stream",
     "text": [
      "1/1 [==============================] - 3s 3s/step - loss: 0.5384 - auc_4: 0.5568 - val_loss: 0.6307 - val_auc_4: 0.5181\n",
      "Epoch 124/200\n",
      "1/1 [==============================] - 3s 3s/step - loss: 0.5392 - auc_4: 0.5511 - val_loss: 0.6275 - val_auc_4: 0.5075\n",
      "Epoch 125/200\n",
      "1/1 [==============================] - 3s 3s/step - loss: 0.5407 - auc_4: 0.5349 - val_loss: 0.6261 - val_auc_4: 0.4959\n",
      "Epoch 126/200\n",
      "1/1 [==============================] - 4s 4s/step - loss: 0.5379 - auc_4: 0.5665 - val_loss: 0.6260 - val_auc_4: 0.5070\n",
      "Epoch 127/200\n",
      "1/1 [==============================] - 3s 3s/step - loss: 0.5397 - auc_4: 0.5456 - val_loss: 0.6306 - val_auc_4: 0.5030\n",
      "Epoch 128/200\n",
      "1/1 [==============================] - 3s 3s/step - loss: 0.5377 - auc_4: 0.5770 - val_loss: 0.6403 - val_auc_4: 0.4908\n",
      "Epoch 129/200\n",
      "1/1 [==============================] - 3s 3s/step - loss: 0.5400 - auc_4: 0.5288 - val_loss: 0.6467 - val_auc_4: 0.5002\n",
      "Epoch 130/200\n",
      "1/1 [==============================] - 3s 3s/step - loss: 0.5393 - auc_4: 0.5419 - val_loss: 0.6510 - val_auc_4: 0.5009\n",
      "Epoch 131/200\n",
      "1/1 [==============================] - ETA: 0s - loss: 0.5375 - auc_4: 0.558 - 3s 3s/step - loss: 0.5375 - auc_4: 0.5589 - val_loss: 0.6558 - val_auc_4: 0.5127\n",
      "Epoch 132/200\n",
      "1/1 [==============================] - 3s 3s/step - loss: 0.5381 - auc_4: 0.5620 - val_loss: 0.6572 - val_auc_4: 0.5046\n",
      "Epoch 133/200\n",
      "1/1 [==============================] - 3s 3s/step - loss: 0.5392 - auc_4: 0.5506 - val_loss: 0.6578 - val_auc_4: 0.5125\n",
      "Epoch 134/200\n",
      "1/1 [==============================] - 3s 3s/step - loss: 0.5393 - auc_4: 0.5658 - val_loss: 0.6558 - val_auc_4: 0.5311\n",
      "Epoch 135/200\n",
      "1/1 [==============================] - 3s 3s/step - loss: 0.5397 - auc_4: 0.5474 - val_loss: 0.6465 - val_auc_4: 0.4864\n",
      "Epoch 136/200\n",
      "1/1 [==============================] - 3s 3s/step - loss: 0.5377 - auc_4: 0.5636 - val_loss: 0.6383 - val_auc_4: 0.5362\n",
      "Epoch 137/200\n",
      "1/1 [==============================] - 3s 3s/step - loss: 0.5387 - auc_4: 0.5584 - val_loss: 0.6335 - val_auc_4: 0.5202\n",
      "Epoch 138/200\n",
      "1/1 [==============================] - 3s 3s/step - loss: 0.5381 - auc_4: 0.5510 - val_loss: 0.6302 - val_auc_4: 0.5187\n",
      "Epoch 139/200\n",
      "1/1 [==============================] - 3s 3s/step - loss: 0.5382 - auc_4: 0.5620 - val_loss: 0.6284 - val_auc_4: 0.5287\n",
      "Epoch 140/200\n",
      "1/1 [==============================] - 3s 3s/step - loss: 0.5386 - auc_4: 0.5484 - val_loss: 0.6262 - val_auc_4: 0.5492\n",
      "Epoch 141/200\n",
      "1/1 [==============================] - 2s 2s/step - loss: 0.5381 - auc_4: 0.5586 - val_loss: 0.6269 - val_auc_4: 0.5687\n",
      "Epoch 142/200\n",
      "1/1 [==============================] - 2s 2s/step - loss: 0.5369 - auc_4: 0.5700 - val_loss: 0.6324 - val_auc_4: 0.5588\n",
      "Epoch 143/200\n",
      "1/1 [==============================] - 2s 2s/step - loss: 0.5381 - auc_4: 0.5623 - val_loss: 0.6386 - val_auc_4: 0.5710\n",
      "Epoch 144/200\n",
      "1/1 [==============================] - 2s 2s/step - loss: 0.5383 - auc_4: 0.5596 - val_loss: 0.6450 - val_auc_4: 0.5407\n",
      "Epoch 145/200\n",
      "1/1 [==============================] - 2s 2s/step - loss: 0.5357 - auc_4: 0.5825 - val_loss: 0.6538 - val_auc_4: 0.5563\n",
      "Epoch 146/200\n",
      "1/1 [==============================] - 3s 3s/step - loss: 0.5356 - auc_4: 0.5839 - val_loss: 0.6601 - val_auc_4: 0.5562\n",
      "Epoch 147/200\n",
      "1/1 [==============================] - 3s 3s/step - loss: 0.5363 - auc_4: 0.5760 - val_loss: 0.6623 - val_auc_4: 0.5355\n",
      "Epoch 148/200\n",
      "1/1 [==============================] - 3s 3s/step - loss: 0.5363 - auc_4: 0.5703 - val_loss: 0.6674 - val_auc_4: 0.5255\n",
      "Epoch 149/200\n",
      "1/1 [==============================] - 3s 3s/step - loss: 0.5354 - auc_4: 0.5807 - val_loss: 0.6701 - val_auc_4: 0.5310\n",
      "Epoch 150/200\n",
      "1/1 [==============================] - 3s 3s/step - loss: 0.5354 - auc_4: 0.6018 - val_loss: 0.6494 - val_auc_4: 0.5225\n",
      "Epoch 151/200\n",
      "1/1 [==============================] - 3s 3s/step - loss: 0.5322 - auc_4: 0.5856 - val_loss: 0.6382 - val_auc_4: 0.5566\n",
      "Epoch 152/200\n",
      "1/1 [==============================] - 3s 3s/step - loss: 0.5351 - auc_4: 0.5782 - val_loss: 0.6353 - val_auc_4: 0.5652\n",
      "Epoch 153/200\n",
      "1/1 [==============================] - 3s 3s/step - loss: 0.5336 - auc_4: 0.5905 - val_loss: 0.6389 - val_auc_4: 0.5702\n",
      "Epoch 154/200\n",
      "1/1 [==============================] - 3s 3s/step - loss: 0.5318 - auc_4: 0.5999 - val_loss: 0.6451 - val_auc_4: 0.5671\n",
      "Epoch 155/200\n",
      "1/1 [==============================] - 3s 3s/step - loss: 0.5334 - auc_4: 0.5934 - val_loss: 0.6343 - val_auc_4: 0.5644\n",
      "Epoch 156/200\n",
      "1/1 [==============================] - 3s 3s/step - loss: 0.5240 - auc_4: 0.6335 - val_loss: 0.6347 - val_auc_4: 0.5530\n",
      "Epoch 157/200\n",
      "1/1 [==============================] - 3s 3s/step - loss: 0.5255 - auc_4: 0.6249 - val_loss: 0.6491 - val_auc_4: 0.5413\n",
      "Epoch 158/200\n",
      "1/1 [==============================] - 3s 3s/step - loss: 0.5236 - auc_4: 0.6387 - val_loss: 0.6638 - val_auc_4: 0.5365\n",
      "Epoch 159/200\n",
      "1/1 [==============================] - 3s 3s/step - loss: 0.5215 - auc_4: 0.6414 - val_loss: 0.6502 - val_auc_4: 0.5449\n",
      "Epoch 160/200\n",
      "1/1 [==============================] - 3s 3s/step - loss: 0.5260 - auc_4: 0.6256 - val_loss: 0.6584 - val_auc_4: 0.5645\n",
      "Epoch 161/200\n",
      "1/1 [==============================] - 3s 3s/step - loss: 0.5186 - auc_4: 0.6461 - val_loss: 0.7345 - val_auc_4: 0.5511\n",
      "Epoch 162/200\n",
      "1/1 [==============================] - 3s 3s/step - loss: 0.5292 - auc_4: 0.6662 - val_loss: 0.6636 - val_auc_4: 0.5587\n",
      "Epoch 163/200\n",
      "1/1 [==============================] - 3s 3s/step - loss: 0.5240 - auc_4: 0.6340 - val_loss: 0.6649 - val_auc_4: 0.5494\n",
      "Epoch 164/200\n",
      "1/1 [==============================] - 3s 3s/step - loss: 0.5284 - auc_4: 0.6236 - val_loss: 0.6870 - val_auc_4: 0.5411\n",
      "Epoch 165/200\n",
      "1/1 [==============================] - 3s 3s/step - loss: 0.5095 - auc_4: 0.6855 - val_loss: 0.7556 - val_auc_4: 0.5627\n",
      "Epoch 166/200\n",
      "1/1 [==============================] - 3s 3s/step - loss: 0.5285 - auc_4: 0.6699 - val_loss: 0.7276 - val_auc_4: 0.5563\n",
      "Epoch 167/200\n",
      "1/1 [==============================] - 3s 3s/step - loss: 0.5088 - auc_4: 0.6861 - val_loss: 0.6961 - val_auc_4: 0.5429\n",
      "Epoch 168/200\n",
      "1/1 [==============================] - 4s 4s/step - loss: 0.5019 - auc_4: 0.6960 - val_loss: 0.7152 - val_auc_4: 0.5413\n",
      "Epoch 169/200\n",
      "1/1 [==============================] - 3s 3s/step - loss: 0.4963 - auc_4: 0.7045 - val_loss: 0.7524 - val_auc_4: 0.5433\n",
      "Epoch 170/200\n",
      "1/1 [==============================] - 3s 3s/step - loss: 0.4947 - auc_4: 0.7104 - val_loss: 0.7414 - val_auc_4: 0.5414\n",
      "Epoch 171/200\n",
      "1/1 [==============================] - 3s 3s/step - loss: 0.4851 - auc_4: 0.7281 - val_loss: 0.7352 - val_auc_4: 0.5519\n",
      "Epoch 172/200\n",
      "1/1 [==============================] - 3s 3s/step - loss: 0.4788 - auc_4: 0.7390 - val_loss: 0.7765 - val_auc_4: 0.5529\n",
      "Epoch 173/200\n",
      "1/1 [==============================] - 3s 3s/step - loss: 0.4670 - auc_4: 0.7634 - val_loss: 0.7657 - val_auc_4: 0.5543\n",
      "Epoch 174/200\n",
      "1/1 [==============================] - 3s 3s/step - loss: 0.4722 - auc_4: 0.7509 - val_loss: 0.7229 - val_auc_4: 0.5507\n",
      "Epoch 175/200\n",
      "1/1 [==============================] - 3s 3s/step - loss: 0.4683 - auc_4: 0.7617 - val_loss: 0.7629 - val_auc_4: 0.5511\n",
      "Epoch 176/200\n",
      "1/1 [==============================] - 3s 3s/step - loss: 0.4603 - auc_4: 0.7768 - val_loss: 0.7950 - val_auc_4: 0.5480\n",
      "Epoch 177/200\n",
      "1/1 [==============================] - 3s 3s/step - loss: 0.4658 - auc_4: 0.7719 - val_loss: 0.7548 - val_auc_4: 0.5470\n",
      "Epoch 178/200\n",
      "1/1 [==============================] - 3s 3s/step - loss: 0.4610 - auc_4: 0.7812 - val_loss: 0.8450 - val_auc_4: 0.5463\n",
      "Epoch 179/200\n",
      "1/1 [==============================] - 3s 3s/step - loss: 0.4486 - auc_4: 0.7932 - val_loss: 0.9413 - val_auc_4: 0.5473\n",
      "Epoch 180/200\n",
      "1/1 [==============================] - 3s 3s/step - loss: 0.4639 - auc_4: 0.8076 - val_loss: 0.7625 - val_auc_4: 0.5373\n",
      "Epoch 181/200\n",
      "1/1 [==============================] - 3s 3s/step - loss: 0.5045 - auc_4: 0.7745 - val_loss: 0.7676 - val_auc_4: 0.5314\n",
      "Epoch 182/200\n",
      "1/1 [==============================] - 3s 3s/step - loss: 0.4758 - auc_4: 0.7826 - val_loss: 0.8453 - val_auc_4: 0.5414\n",
      "Epoch 183/200\n",
      "1/1 [==============================] - 3s 3s/step - loss: 0.4416 - auc_4: 0.8215 - val_loss: 0.8824 - val_auc_4: 0.5425\n"
     ]
    },
    {
     "name": "stdout",
     "output_type": "stream",
     "text": [
      "Epoch 184/200\n",
      "1/1 [==============================] - 3s 3s/step - loss: 0.4666 - auc_4: 0.8204 - val_loss: 0.8144 - val_auc_4: 0.5265\n",
      "Epoch 185/200\n",
      "1/1 [==============================] - 3s 3s/step - loss: 0.4288 - auc_4: 0.8321 - val_loss: 0.7638 - val_auc_4: 0.5245\n",
      "Epoch 186/200\n",
      "1/1 [==============================] - 3s 3s/step - loss: 0.4399 - auc_4: 0.8209 - val_loss: 0.7636 - val_auc_4: 0.5272\n",
      "Epoch 187/200\n",
      "1/1 [==============================] - 3s 3s/step - loss: 0.4371 - auc_4: 0.8185 - val_loss: 0.7970 - val_auc_4: 0.5381\n",
      "Epoch 188/200\n",
      "1/1 [==============================] - 3s 3s/step - loss: 0.4159 - auc_4: 0.8362 - val_loss: 0.8912 - val_auc_4: 0.5375\n",
      "Epoch 189/200\n",
      "1/1 [==============================] - 3s 3s/step - loss: 0.4256 - auc_4: 0.8403 - val_loss: 0.8910 - val_auc_4: 0.5425\n",
      "Epoch 190/200\n",
      "1/1 [==============================] - 3s 3s/step - loss: 0.4045 - auc_4: 0.8478 - val_loss: 0.8616 - val_auc_4: 0.5385\n",
      "Epoch 191/200\n",
      "1/1 [==============================] - 3s 3s/step - loss: 0.3968 - auc_4: 0.8506 - val_loss: 0.8774 - val_auc_4: 0.5347\n",
      "Epoch 192/200\n",
      "1/1 [==============================] - 3s 3s/step - loss: 0.3931 - auc_4: 0.8587 - val_loss: 0.9306 - val_auc_4: 0.5462\n",
      "Epoch 193/200\n",
      "1/1 [==============================] - 3s 3s/step - loss: 0.3700 - auc_4: 0.8740 - val_loss: 0.9835 - val_auc_4: 0.5377\n",
      "Epoch 194/200\n",
      "1/1 [==============================] - 3s 3s/step - loss: 0.3779 - auc_4: 0.8764 - val_loss: 0.9553 - val_auc_4: 0.5432\n",
      "Epoch 195/200\n",
      "1/1 [==============================] - 3s 3s/step - loss: 0.3695 - auc_4: 0.8749 - val_loss: 0.9463 - val_auc_4: 0.5361\n",
      "Epoch 196/200\n",
      "1/1 [==============================] - 3s 3s/step - loss: 0.3637 - auc_4: 0.8892 - val_loss: 0.9909 - val_auc_4: 0.5351\n",
      "Epoch 197/200\n",
      "1/1 [==============================] - 3s 3s/step - loss: 0.3492 - auc_4: 0.8921 - val_loss: 1.0472 - val_auc_4: 0.5406\n",
      "Epoch 198/200\n",
      "1/1 [==============================] - 3s 3s/step - loss: 0.3480 - auc_4: 0.8954 - val_loss: 1.0253 - val_auc_4: 0.5421\n",
      "Epoch 199/200\n",
      "1/1 [==============================] - 3s 3s/step - loss: 0.3445 - auc_4: 0.8969 - val_loss: 0.9904 - val_auc_4: 0.5203\n",
      "Epoch 200/200\n",
      "1/1 [==============================] - 3s 3s/step - loss: 0.3443 - auc_4: 0.8995 - val_loss: 1.0089 - val_auc_4: 0.5267\n"
     ]
    }
   ],
   "source": [
    "history = model.fit(tokenized_texts, y_train.values, validation_split=0.1, callbacks=[callback], epochs=200,batch_size=2777)"
   ]
  },
  {
   "cell_type": "code",
   "execution_count": 57,
   "metadata": {},
   "outputs": [],
   "source": [
    "preds = model.predict(tokenized_texts_test)"
   ]
  },
  {
   "cell_type": "code",
   "execution_count": 58,
   "metadata": {},
   "outputs": [],
   "source": [
    "y_pred = (preds >= 0.5).astype(bool)"
   ]
  },
  {
   "cell_type": "code",
   "execution_count": 59,
   "metadata": {},
   "outputs": [
    {
     "name": "stdout",
     "output_type": "stream",
     "text": [
      "              precision    recall  f1-score   support\n",
      "\n",
      "           0       0.78      0.90      0.83       532\n",
      "           1       0.32      0.15      0.20       162\n",
      "\n",
      "    accuracy                           0.73       694\n",
      "   macro avg       0.55      0.53      0.52       694\n",
      "weighted avg       0.67      0.73      0.69       694\n",
      "\n"
     ]
    },
    {
     "data": {
      "text/plain": [
       "0.6121437853893995"
      ]
     },
     "execution_count": 59,
     "metadata": {},
     "output_type": "execute_result"
    }
   ],
   "source": [
    "print(classification_report(y_test, y_pred))\n",
    "roc_auc_score(y_test, preds)"
   ]
  }
 ],
 "metadata": {
  "kernelspec": {
   "display_name": "Python 3",
   "language": "python",
   "name": "python3"
  },
  "language_info": {
   "codemirror_mode": {
    "name": "ipython",
    "version": 3
   },
   "file_extension": ".py",
   "mimetype": "text/x-python",
   "name": "python",
   "nbconvert_exporter": "python",
   "pygments_lexer": "ipython3",
   "version": "3.8.5"
  }
 },
 "nbformat": 4,
 "nbformat_minor": 4
}
